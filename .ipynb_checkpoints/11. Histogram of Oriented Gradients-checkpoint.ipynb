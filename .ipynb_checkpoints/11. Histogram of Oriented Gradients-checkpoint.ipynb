{
 "cells": [
  {
   "cell_type": "markdown",
   "metadata": {},
   "source": [
    "HOG is also referred to as a type of feature descriptor, which is a simplified representation of an image that is made up of extracted features (that highlight important parts in an image) and that discards extraneous information. In this case the features represent the image gradient -- it's magnitude and directions, which describe the shapes and patterns of intensity that make up the image."
   ]
  },
  {
   "cell_type": "markdown",
   "metadata": {},
   "source": [
    "## 1. Gradient Magnitude and Direction"
   ]
  },
  {
   "cell_type": "markdown",
   "metadata": {},
   "source": [
    "First, HOG relies on calculation of the image gradient at each pixel; it's magnitude and direction. And we already know how to calculate these values: with Sobel filters! In the below code, I am using OpenCV's Sobel function instead of creating my own filter."
   ]
  },
  {
   "cell_type": "code",
   "execution_count": 19,
   "metadata": {
    "collapsed": true
   },
   "outputs": [],
   "source": [
    "import numpy as np\n",
    "import cv2\n",
    "import matplotlib.pyplot as plt"
   ]
  },
  {
   "cell_type": "code",
   "execution_count": 20,
   "metadata": {
    "collapsed": false
   },
   "outputs": [],
   "source": [
    "# Read in your image and convert to grayscale\n",
    "img = cv2.imread('images/car_1.jpg')\n",
    "image = np.copy(img)\n",
    "\n",
    "image = cv2.cvtColor(image, cv2.COLOR_BGR2RGB)\n",
    "gray = cv2.cvtColor(image, cv2.COLOR_RGB2GRAY)\n",
    "\n",
    "# Compute the gradients in the x and y directions\n",
    "gx = cv2.Sobel(gray, cv2.CV_32F, 1, 0)\n",
    "gy = cv2.Sobel(gray, cv2.CV_32F, 0, 1)\n",
    "\n",
    "# Compute the magnitude and direction of the image gradient\n",
    "mag, ang = cv2.cartToPolar(gx, gy)\n"
   ]
  },
  {
   "cell_type": "markdown",
   "metadata": {},
   "source": [
    "## 2. Define the Cells and Bins"
   ]
  },
  {
   "cell_type": "markdown",
   "metadata": {},
   "source": [
    "As in the video, I'll define 9 bins for 9 different ranges of gradient directions. And for the 64x64 image, this will break nicely into 8x8 cells for analysis."
   ]
  },
  {
   "cell_type": "code",
   "execution_count": 21,
   "metadata": {
    "collapsed": true
   },
   "outputs": [],
   "source": [
    "# Creating bin ranges\n",
    "n_bins = 9\n",
    "bins = np.int32(n_bins*ang/(2*np.pi))"
   ]
  },
  {
   "cell_type": "markdown",
   "metadata": {},
   "source": [
    "## 3. Calculate the Histogram for each Cell"
   ]
  },
  {
   "cell_type": "markdown",
   "metadata": {},
   "source": [
    "With these values in mind, we know that we have 64 total 8x8 cells, and for each of these, we calculate a histogram of directions (9 bins) weighted with their magnitude. So, each cell will produce a feature vector containing 9 values. Sixty-four of those together (that form the complete 64x64 image) give us a complete image feature vector containing 576 values. This is almost the feature vector we use to train our data!\n",
    "\n",
    "One more step that HOG does before creating the feature vector is to perform block normalization. A block is a larger area than a cell and checks different positions for the cell, determining how much they overlap. So, the HOG features for all cells in each block are computed at each block position and the block shifts across and down through the image cell by cell.\n",
    "\n",
    "So, the actual number of features in your final feature vector will be the total number of block positions multiplied by the number of cells per block, times the number of orientations, or in the case shown below: 7×7×2×2×9=1764"
   ]
  },
  {
   "cell_type": "code",
   "execution_count": 18,
   "metadata": {
    "collapsed": false
   },
   "outputs": [
    {
     "ename": "error",
     "evalue": "/io/opencv/modules/objdetect/src/hog.cpp:92: error: (-215) (winSize.width - blockSize.width) % blockStride.width == 0 && (winSize.height - blockSize.height) % blockStride.height == 0 in function getDescriptorSize\n",
     "output_type": "error",
     "traceback": [
      "\u001b[0;31m---------------------------------------------------------------------------\u001b[0m",
      "\u001b[0;31merror\u001b[0m                                     Traceback (most recent call last)",
      "\u001b[0;32m<ipython-input-18-79ae91664c9c>\u001b[0m in \u001b[0;36m<module>\u001b[0;34m()\u001b[0m\n\u001b[1;32m     12\u001b[0m \u001b[0;34m\u001b[0m\u001b[0m\n\u001b[1;32m     13\u001b[0m \u001b[0;31m# Using the descriptor, calculate the feature vector of an image\u001b[0m\u001b[0;34m\u001b[0m\u001b[0;34m\u001b[0m\u001b[0m\n\u001b[0;32m---> 14\u001b[0;31m \u001b[0mfeature_vector\u001b[0m \u001b[0;34m=\u001b[0m \u001b[0mhog\u001b[0m\u001b[0;34m.\u001b[0m\u001b[0mcompute\u001b[0m\u001b[0;34m(\u001b[0m\u001b[0mimage\u001b[0m\u001b[0;34m)\u001b[0m\u001b[0;34m\u001b[0m\u001b[0m\n\u001b[0m",
      "\u001b[0;31merror\u001b[0m: /io/opencv/modules/objdetect/src/hog.cpp:92: error: (-215) (winSize.width - blockSize.width) % blockStride.width == 0 && (winSize.height - blockSize.height) % blockStride.height == 0 in function getDescriptorSize\n"
     ]
    }
   ],
   "source": [
    "# OpenCV HOG Descriptor\n",
    "\n",
    "# Parameters you define for a HOG feature vector\n",
    "win_size = (64, 64)\n",
    "block_size = (16, 16)\n",
    "block_stride = (5, 5)\n",
    "cell_size = (8, 8)\n",
    "n_bins = 9\n",
    "\n",
    "# Create the HOG descriptor\n",
    "hog = cv2.HOGDescriptor(win_size, block_size, block_stride, cell_size, n_bins)\n",
    "\n",
    "## (winSize.height - blockSize.height) % blockStride.height == 0\n",
    "\n",
    "# Using the descriptor, calculate the feature vector of an image\n",
    "feature_vector = hog.compute(image)"
   ]
  },
  {
   "cell_type": "code",
   "execution_count": null,
   "metadata": {
    "collapsed": true
   },
   "outputs": [],
   "source": []
  }
 ],
 "metadata": {
  "anaconda-cloud": {},
  "kernelspec": {
   "display_name": "Python [default]",
   "language": "python",
   "name": "python2"
  },
  "language_info": {
   "codemirror_mode": {
    "name": "ipython",
    "version": 2
   },
   "file_extension": ".py",
   "mimetype": "text/x-python",
   "name": "python",
   "nbconvert_exporter": "python",
   "pygments_lexer": "ipython2",
   "version": "2.7.12"
  }
 },
 "nbformat": 4,
 "nbformat_minor": 1
}
